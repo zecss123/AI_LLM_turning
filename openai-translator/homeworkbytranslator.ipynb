{
 "cells": [
  {
   "cell_type": "code",
   "execution_count": null,
   "id": "aa4108ef-471c-4666-a9da-28e1c933d8e3",
   "metadata": {},
   "outputs": [],
   "source": [
    "import openai\n",
    "from openai import OpenAI\n",
    "client = OpenAI(\n",
    "                        base_url=\"https://api.openai-sb.com/v1/\",\n",
    "                        api_key=\"sb-d6efde3bcd856bd5da4b4f3b6ed0df7b6642717d8438b123\"\n",
    "                    )#export OPENAI_API_KEY=\"sb-d6efde3bcd856bd5da4b4f3b6ed0df7b6642717d8438b123\"\n",
    "response = client.chat.completions.create(\n",
    "    model=\"gpt-3.5-turbo\",\n",
    "    messages=[\n",
    "        {\"role\": \"user\", \"content\": prompt}\n",
    "    ]\n",
    ")\n",
    "print(response.text)\n",
    "translation = response.choices[0].message['content'].strip()"
   ]
  }
 ],
 "metadata": {
  "kernelspec": {
   "display_name": "Python 3 (ipykernel)",
   "language": "python",
   "name": "python3"
  },
  "language_info": {
   "codemirror_mode": {
    "name": "ipython",
    "version": 3
   },
   "file_extension": ".py",
   "mimetype": "text/x-python",
   "name": "python",
   "nbconvert_exporter": "python",
   "pygments_lexer": "ipython3",
   "version": "3.8.10"
  }
 },
 "nbformat": 4,
 "nbformat_minor": 5
}
